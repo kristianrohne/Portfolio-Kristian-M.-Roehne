{
 "cells": [
  {
   "cell_type": "markdown",
   "metadata": {},
   "source": [
    "### Imports"
   ]
  },
  {
   "cell_type": "code",
   "execution_count": 249,
   "metadata": {},
   "outputs": [],
   "source": [
    "import pandas as pd\n",
    "import matplotlib.pyplot as plt\n",
    "import numpy as np\n",
    "import seaborn as sns\n",
    "from sklearn.model_selection import train_test_split\n",
    "from sklearn.preprocessing import StandardScaler\n",
    "from sklearn.ensemble import RandomForestClassifier\n",
    "from sklearn.metrics import accuracy_score"
   ]
  },
  {
   "cell_type": "markdown",
   "metadata": {},
   "source": [
    "### Reading data"
   ]
  },
  {
   "cell_type": "code",
   "execution_count": 250,
   "metadata": {},
   "outputs": [],
   "source": [
    "df= pd.read_csv(\"train.csv\",index_col=0 )"
   ]
  },
  {
   "cell_type": "markdown",
   "metadata": {},
   "source": [
    "### Data exploration and visualisation"
   ]
  },
  {
   "cell_type": "code",
   "execution_count": 251,
   "metadata": {},
   "outputs": [],
   "source": [
    "# # for comparing different features to each other from the dataset, with hue as Edible\n",
    "# #I just made comments out of this so you dont have to read all the output\n",
    "\n",
    "# sns.pairplot(df, hue='Edible')\n",
    "# plt.show()"
   ]
  },
  {
   "cell_type": "code",
   "execution_count": 252,
   "metadata": {},
   "outputs": [],
   "source": [
    "#For looking at the distribution of the data of each feature in the dataset \n",
    "#I just made comments out of this so you dont have to read all the output\n",
    "\n",
    "# for column in df.columns:\n",
    "#     plt.figure(figsize=(10, 4))\n",
    "#     sns.histplot(df[column], kde=True)  # kde (Kernel Density Estimate) adds a density curve\n",
    "#     plt.title(f'Distribution of {column}')\n",
    "#     plt.xlabel(column)\n",
    "#     plt.ylabel('Frequency')\n",
    "#     plt.show()"
   ]
  },
  {
   "cell_type": "code",
   "execution_count": 253,
   "metadata": {},
   "outputs": [],
   "source": [
    "#Looking for correlation between features in the dataset \n",
    "#I just made comments out of this so you dont have to read all the output\n",
    "\n",
    "# corr_matrix = df.corr()\n",
    "# # Apply formatting to round the values to two decimal places.\n",
    "# # The .applymap() method applies a lambda function to each element of the correlation matrix.\n",
    "# # The lambda function converts each value 'x' in the matrix to a formatted string with two decimal places.\n",
    "# corr_matrix_rounded = corr_matrix.applymap(lambda x: f'{x:.2f}')\n",
    "\n",
    "# # Plotting the heatmap, first setting the size of the heatmap\n",
    "# plt.figure(figsize=(10, 8))\n",
    "# # 'annot=corr_matrix_rounded' is used to display the rounded correlation values as annotations on the heatmap.\n",
    "# # 'fmt=' specifies that the annotation texts (rounded values) are strings, not floats or integers.\n",
    "# # 'cmap='coolwarm' sets the colormap to 'coolwarm' \n",
    "# sns.heatmap(corr_matrix, annot=corr_matrix_rounded, fmt='', cmap='coolwarm')\n",
    "# plt.title('Correlation Heatmap')\n",
    "# plt.show()"
   ]
  },
  {
   "cell_type": "code",
   "execution_count": 254,
   "metadata": {},
   "outputs": [],
   "source": [
    "# Looking at df to see how many rows and columns there is \n",
    "#I just made comments out of this so you dont have to read all the output\n",
    "#df"
   ]
  },
  {
   "cell_type": "code",
   "execution_count": 255,
   "metadata": {},
   "outputs": [
    {
     "data": {
      "text/html": [
       "<div>\n",
       "<style scoped>\n",
       "    .dataframe tbody tr th:only-of-type {\n",
       "        vertical-align: middle;\n",
       "    }\n",
       "\n",
       "    .dataframe tbody tr th {\n",
       "        vertical-align: top;\n",
       "    }\n",
       "\n",
       "    .dataframe thead th {\n",
       "        text-align: right;\n",
       "    }\n",
       "</style>\n",
       "<table border=\"1\" class=\"dataframe\">\n",
       "  <thead>\n",
       "    <tr style=\"text-align: right;\">\n",
       "      <th></th>\n",
       "      <th>Acoustic Firmness Index</th>\n",
       "      <th>Atmospheric Pressure at Harvest (Pa)</th>\n",
       "      <th>Bitterness Scale</th>\n",
       "      <th>Circumference (mm)</th>\n",
       "      <th>Color Intensity (a.u.)</th>\n",
       "      <th>Find Distance from Main Vulcano (km)</th>\n",
       "      <th>Length (mm)</th>\n",
       "      <th>Luminescence Intensity (a.u.)</th>\n",
       "      <th>Magnetic orientation (degree)</th>\n",
       "      <th>Odor index (a.u.)</th>\n",
       "      <th>Seed Count</th>\n",
       "      <th>Skin Thickness (mm)</th>\n",
       "      <th>Soil pH where Grown</th>\n",
       "      <th>Sugar Content (mg)</th>\n",
       "      <th>Weight (mg)</th>\n",
       "      <th>pH</th>\n",
       "      <th>Edible</th>\n",
       "    </tr>\n",
       "  </thead>\n",
       "  <tbody>\n",
       "    <tr>\n",
       "      <th>count</th>\n",
       "      <td>1245.000000</td>\n",
       "      <td>1248.000000</td>\n",
       "      <td>1244.000000</td>\n",
       "      <td>1246.000000</td>\n",
       "      <td>1248.000000</td>\n",
       "      <td>1246.000000</td>\n",
       "      <td>1244.000000</td>\n",
       "      <td>1247.000000</td>\n",
       "      <td>1245.000000</td>\n",
       "      <td>1246.000000</td>\n",
       "      <td>1247.000000</td>\n",
       "      <td>1247.000000</td>\n",
       "      <td>1245.000000</td>\n",
       "      <td>1245.000000</td>\n",
       "      <td>1244.000000</td>\n",
       "      <td>1244.000000</td>\n",
       "      <td>1248.000000</td>\n",
       "    </tr>\n",
       "    <tr>\n",
       "      <th>mean</th>\n",
       "      <td>21.570077</td>\n",
       "      <td>101327.543269</td>\n",
       "      <td>1.808682</td>\n",
       "      <td>211.046062</td>\n",
       "      <td>63.300962</td>\n",
       "      <td>44.188204</td>\n",
       "      <td>33.589646</td>\n",
       "      <td>0.002850</td>\n",
       "      <td>178.933737</td>\n",
       "      <td>16.602442</td>\n",
       "      <td>48.926812</td>\n",
       "      <td>3.839615</td>\n",
       "      <td>7.278739</td>\n",
       "      <td>11835.978313</td>\n",
       "      <td>78446.779224</td>\n",
       "      <td>4.614780</td>\n",
       "      <td>0.494391</td>\n",
       "    </tr>\n",
       "    <tr>\n",
       "      <th>std</th>\n",
       "      <td>8.131888</td>\n",
       "      <td>4772.582203</td>\n",
       "      <td>1.960279</td>\n",
       "      <td>24.652278</td>\n",
       "      <td>7.118135</td>\n",
       "      <td>28.331532</td>\n",
       "      <td>3.874355</td>\n",
       "      <td>0.003607</td>\n",
       "      <td>102.113321</td>\n",
       "      <td>14.882420</td>\n",
       "      <td>35.871733</td>\n",
       "      <td>1.483029</td>\n",
       "      <td>0.529815</td>\n",
       "      <td>2417.733775</td>\n",
       "      <td>26637.766132</td>\n",
       "      <td>0.993407</td>\n",
       "      <td>0.500169</td>\n",
       "    </tr>\n",
       "    <tr>\n",
       "      <th>min</th>\n",
       "      <td>0.600000</td>\n",
       "      <td>83825.000000</td>\n",
       "      <td>0.000000</td>\n",
       "      <td>145.867667</td>\n",
       "      <td>46.060000</td>\n",
       "      <td>2.550790</td>\n",
       "      <td>23.451799</td>\n",
       "      <td>0.000004</td>\n",
       "      <td>0.085357</td>\n",
       "      <td>1.722825</td>\n",
       "      <td>0.000000</td>\n",
       "      <td>1.000000</td>\n",
       "      <td>5.710000</td>\n",
       "      <td>4566.000000</td>\n",
       "      <td>32352.182600</td>\n",
       "      <td>-5.120000</td>\n",
       "      <td>0.000000</td>\n",
       "    </tr>\n",
       "    <tr>\n",
       "      <th>25%</th>\n",
       "      <td>17.300000</td>\n",
       "      <td>98095.750000</td>\n",
       "      <td>0.000000</td>\n",
       "      <td>192.982222</td>\n",
       "      <td>58.577500</td>\n",
       "      <td>21.203453</td>\n",
       "      <td>30.777936</td>\n",
       "      <td>0.000627</td>\n",
       "      <td>90.582930</td>\n",
       "      <td>7.615908</td>\n",
       "      <td>15.852008</td>\n",
       "      <td>3.000000</td>\n",
       "      <td>6.910000</td>\n",
       "      <td>10353.000000</td>\n",
       "      <td>57087.682600</td>\n",
       "      <td>4.174979</td>\n",
       "      <td>0.000000</td>\n",
       "    </tr>\n",
       "    <tr>\n",
       "      <th>50%</th>\n",
       "      <td>21.300000</td>\n",
       "      <td>101357.000000</td>\n",
       "      <td>1.000000</td>\n",
       "      <td>212.429730</td>\n",
       "      <td>62.390000</td>\n",
       "      <td>38.880858</td>\n",
       "      <td>33.784401</td>\n",
       "      <td>0.001757</td>\n",
       "      <td>180.043851</td>\n",
       "      <td>12.258785</td>\n",
       "      <td>47.932723</td>\n",
       "      <td>4.000000</td>\n",
       "      <td>7.280000</td>\n",
       "      <td>11807.000000</td>\n",
       "      <td>77440.682600</td>\n",
       "      <td>4.910000</td>\n",
       "      <td>0.000000</td>\n",
       "    </tr>\n",
       "    <tr>\n",
       "      <th>75%</th>\n",
       "      <td>25.300000</td>\n",
       "      <td>104470.750000</td>\n",
       "      <td>3.000000</td>\n",
       "      <td>226.313333</td>\n",
       "      <td>67.202500</td>\n",
       "      <td>60.680816</td>\n",
       "      <td>36.049083</td>\n",
       "      <td>0.003767</td>\n",
       "      <td>266.481765</td>\n",
       "      <td>20.302048</td>\n",
       "      <td>80.413165</td>\n",
       "      <td>5.000000</td>\n",
       "      <td>7.660000</td>\n",
       "      <td>13534.000000</td>\n",
       "      <td>92664.102600</td>\n",
       "      <td>5.080000</td>\n",
       "      <td>1.000000</td>\n",
       "    </tr>\n",
       "    <tr>\n",
       "      <th>max</th>\n",
       "      <td>156.520701</td>\n",
       "      <td>115636.000000</td>\n",
       "      <td>7.000000</td>\n",
       "      <td>274.719407</td>\n",
       "      <td>97.810000</td>\n",
       "      <td>109.952511</td>\n",
       "      <td>43.691515</td>\n",
       "      <td>0.044624</td>\n",
       "      <td>359.443812</td>\n",
       "      <td>152.041780</td>\n",
       "      <td>112.968004</td>\n",
       "      <td>8.500000</td>\n",
       "      <td>8.980000</td>\n",
       "      <td>18246.000000</td>\n",
       "      <td>164679.342600</td>\n",
       "      <td>6.081918</td>\n",
       "      <td>1.000000</td>\n",
       "    </tr>\n",
       "  </tbody>\n",
       "</table>\n",
       "</div>"
      ],
      "text/plain": [
       "       Acoustic Firmness Index  Atmospheric Pressure at Harvest (Pa)  \\\n",
       "count              1245.000000                           1248.000000   \n",
       "mean                 21.570077                         101327.543269   \n",
       "std                   8.131888                           4772.582203   \n",
       "min                   0.600000                          83825.000000   \n",
       "25%                  17.300000                          98095.750000   \n",
       "50%                  21.300000                         101357.000000   \n",
       "75%                  25.300000                         104470.750000   \n",
       "max                 156.520701                         115636.000000   \n",
       "\n",
       "       Bitterness Scale  Circumference (mm)  Color Intensity (a.u.)  \\\n",
       "count       1244.000000         1246.000000             1248.000000   \n",
       "mean           1.808682          211.046062               63.300962   \n",
       "std            1.960279           24.652278                7.118135   \n",
       "min            0.000000          145.867667               46.060000   \n",
       "25%            0.000000          192.982222               58.577500   \n",
       "50%            1.000000          212.429730               62.390000   \n",
       "75%            3.000000          226.313333               67.202500   \n",
       "max            7.000000          274.719407               97.810000   \n",
       "\n",
       "       Find Distance from Main Vulcano (km)  Length (mm)  \\\n",
       "count                           1246.000000  1244.000000   \n",
       "mean                              44.188204    33.589646   \n",
       "std                               28.331532     3.874355   \n",
       "min                                2.550790    23.451799   \n",
       "25%                               21.203453    30.777936   \n",
       "50%                               38.880858    33.784401   \n",
       "75%                               60.680816    36.049083   \n",
       "max                              109.952511    43.691515   \n",
       "\n",
       "       Luminescence Intensity (a.u.)  Magnetic orientation (degree)  \\\n",
       "count                    1247.000000                    1245.000000   \n",
       "mean                        0.002850                     178.933737   \n",
       "std                         0.003607                     102.113321   \n",
       "min                         0.000004                       0.085357   \n",
       "25%                         0.000627                      90.582930   \n",
       "50%                         0.001757                     180.043851   \n",
       "75%                         0.003767                     266.481765   \n",
       "max                         0.044624                     359.443812   \n",
       "\n",
       "       Odor index (a.u.)   Seed Count  Skin Thickness (mm)  \\\n",
       "count        1246.000000  1247.000000          1247.000000   \n",
       "mean           16.602442    48.926812             3.839615   \n",
       "std            14.882420    35.871733             1.483029   \n",
       "min             1.722825     0.000000             1.000000   \n",
       "25%             7.615908    15.852008             3.000000   \n",
       "50%            12.258785    47.932723             4.000000   \n",
       "75%            20.302048    80.413165             5.000000   \n",
       "max           152.041780   112.968004             8.500000   \n",
       "\n",
       "       Soil pH where Grown  Sugar Content (mg)    Weight (mg)           pH  \\\n",
       "count          1245.000000         1245.000000    1244.000000  1244.000000   \n",
       "mean              7.278739        11835.978313   78446.779224     4.614780   \n",
       "std               0.529815         2417.733775   26637.766132     0.993407   \n",
       "min               5.710000         4566.000000   32352.182600    -5.120000   \n",
       "25%               6.910000        10353.000000   57087.682600     4.174979   \n",
       "50%               7.280000        11807.000000   77440.682600     4.910000   \n",
       "75%               7.660000        13534.000000   92664.102600     5.080000   \n",
       "max               8.980000        18246.000000  164679.342600     6.081918   \n",
       "\n",
       "            Edible  \n",
       "count  1248.000000  \n",
       "mean      0.494391  \n",
       "std       0.500169  \n",
       "min       0.000000  \n",
       "25%       0.000000  \n",
       "50%       0.000000  \n",
       "75%       1.000000  \n",
       "max       1.000000  "
      ]
     },
     "execution_count": 255,
     "metadata": {},
     "output_type": "execute_result"
    }
   ],
   "source": [
    "df.describe()"
   ]
  },
  {
   "cell_type": "markdown",
   "metadata": {},
   "source": [
    "#### Comments on the data after visualization\n",
    "Some of the pH values didn't look right. There was some negative ph values, which doesn't make sense.\n",
    "It looked like there was some outliers on some of the features, which is also getting removed before training."
   ]
  },
  {
   "cell_type": "markdown",
   "metadata": {},
   "source": [
    "### Data cleaning"
   ]
  },
  {
   "cell_type": "code",
   "execution_count": 256,
   "metadata": {},
   "outputs": [],
   "source": [
    "#replacing nan-values with median\n",
    "# I do this instead of removing the rows, because it gave me better accuracy when training models\n",
    "df_cleaned= df.fillna(df.median())\n",
    "\n",
    "# Dropping rows with negative pH values\n",
    "df_cleaned = df_cleaned.drop(df_cleaned[df_cleaned['pH'] < 0].index)\n",
    "\n",
    "#Dropping rows with feature values that clearly looks like outliers.\n",
    "# I did this manually by just looking at the plots, but i could've also removed data with z-score\n",
    "df_cleaned= df_cleaned.drop(df_cleaned[df_cleaned[\"Acoustic Firmness Index\"] > 50].index)\n",
    "df_cleaned= df_cleaned.drop(df_cleaned[df_cleaned[\"Odor index (a.u.)\"] > 85].index)\n",
    "\n",
    "\n",
    "\n",
    "#I've could've also dropped these rows under, but the accuracy got worse when doing this\n",
    "#df_cleaned= df_cleaned.drop(df_cleaned[df_cleaned[\"Luminescence Intensity (a.u.)\"] > 0.017].index)\n",
    "\n",
    "# For checking how many rows i've removed\n",
    "#I just made comments out of this so you dont have to read all the output\n",
    "#df_cleaned\n"
   ]
  },
  {
   "cell_type": "markdown",
   "metadata": {},
   "source": [
    "### Data preprocessing and visualisation"
   ]
  },
  {
   "cell_type": "code",
   "execution_count": 257,
   "metadata": {},
   "outputs": [
    {
     "data": {
      "image/png": "[encoded data removed]",
      "text/plain": [
       "<Figure size 1000x600 with 1 Axes>"
      ]
     },
     "metadata": {},
     "output_type": "display_data"
    }
   ],
   "source": [
    "# Plotting the distribution of pH values after data-cleaning\n",
    "plt.figure(figsize=(10, 6))\n",
    "sns.histplot(df_cleaned[\"pH\"], kde=True)\n",
    "plt.title('Distribution of pH without outliers')\n",
    "plt.xlabel('Value')\n",
    "plt.ylabel('Frequency')\n",
    "plt.show()"
   ]
  },
  {
   "cell_type": "code",
   "execution_count": 258,
   "metadata": {},
   "outputs": [
    {
     "data": {
      "image/png": "[encoded data removed]",
      "text/plain": [
       "<Figure size 1000x600 with 1 Axes>"
      ]
     },
     "metadata": {},
     "output_type": "display_data"
    }
   ],
   "source": [
    "# Plotting the distribution of Acoustic Firmess Index after data-cleaning\n",
    "plt.figure(figsize=(10, 6))\n",
    "sns.histplot(df_cleaned[\"Acoustic Firmness Index\"], kde=True)\n",
    "plt.title('Distribution of Acoustic Firmess Index without outliers')\n",
    "plt.xlabel('Value')\n",
    "plt.ylabel('Frequency')\n",
    "plt.show()"
   ]
  },
  {
   "cell_type": "code",
   "execution_count": 259,
   "metadata": {},
   "outputs": [
    {
     "data": {
      "image/png": "[encoded data removed]",
      "text/plain": [
       "<Figure size 1000x600 with 1 Axes>"
      ]
     },
     "metadata": {},
     "output_type": "display_data"
    }
   ],
   "source": [
    "# Plotting the distribution of Odor index (a.u.) after data-cleaning\n",
    "plt.figure(figsize=(10, 6))\n",
    "sns.histplot(df_cleaned[\"Odor index (a.u.)\"], kde=True)\n",
    "plt.title('Distribution of Odor index (a.u.) without outliers')\n",
    "plt.xlabel('Value')\n",
    "plt.ylabel('Frequency')\n",
    "plt.show()"
   ]
  },
  {
   "cell_type": "code",
   "execution_count": 260,
   "metadata": {},
   "outputs": [],
   "source": [
    "# Removing the target column from the DataFrame and uses the rest as features\n",
    "X = df_cleaned.drop('Edible', axis=1)  \n",
    "# Selcts Edible as target columns \n",
    "y = df_cleaned['Edible']\n",
    "\n",
    "\n",
    "#Splitting up into training and test sets \n",
    "X_train, X_test, y_train, y_test = train_test_split(X, y, test_size=0.3, random_state=42, stratify=y)\n",
    "\n",
    "# Initialise standard scaler and compute mean and stddev from training data\n"
   ]
  },
  {
   "cell_type": "markdown",
   "metadata": {},
   "source": [
    "### Modelling"
   ]
  },
  {
   "cell_type": "code",
   "execution_count": 261,
   "metadata": {},
   "outputs": [
    {
     "name": "stdout",
     "output_type": "stream",
     "text": [
      "Accuracy on training data: 1.00\n",
      "Accuracy on test data: 0.92\n"
     ]
    }
   ],
   "source": [
    "# No need to standardize the data for Random Forest \n",
    "\n",
    "# Trying ot RandomForestClassifier\n",
    "rfc = RandomForestClassifier(random_state=42)\n",
    "rfc.fit(X_train, y_train)\n",
    "\n",
    "# Making predictions with training data\n",
    "y_pred_train = rfc.predict(X_train)\n",
    "#computing accuracy from training data\n",
    "accuracy_train = accuracy_score(y_train, y_pred_train)\n",
    "print(f'Accuracy on training data: {accuracy_train:.2f}')\n",
    "\n",
    "# Making predictions with test data\n",
    "y_pred = rfc.predict(X_test)\n",
    "#computing accuracy from test data\n",
    "accuracy = accuracy_score(y_test, y_pred)\n",
    "print(f'Accuracy on test data: {accuracy:.2f}')\n"
   ]
  },
  {
   "cell_type": "markdown",
   "metadata": {},
   "source": [
    "Here i tried different classifiers, but i took it out so you have less code to look at!"
   ]
  },
  {
   "cell_type": "markdown",
   "metadata": {},
   "source": [
    "### Final evaluation"
   ]
  },
  {
   "cell_type": "markdown",
   "metadata": {},
   "source": [
    "Got best accuracy from randomforest, so i use this classifier"
   ]
  },
  {
   "cell_type": "code",
   "execution_count": 262,
   "metadata": {},
   "outputs": [
    {
     "name": "stdout",
     "output_type": "stream",
     "text": [
      "Feature importances:\n",
      "                                  Feature  Importance\n",
      "15                                    pH    0.234173\n",
      "13                    Sugar Content (mg)    0.126118\n",
      "2                       Bitterness Scale    0.117119\n",
      "14                           Weight (mg)    0.080775\n",
      "6                            Length (mm)    0.069948\n",
      "7          Luminescence Intensity (a.u.)    0.068749\n",
      "9                      Odor index (a.u.)    0.056343\n",
      "3                     Circumference (mm)    0.047983\n",
      "0                Acoustic Firmness Index    0.038648\n",
      "8          Magnetic orientation (degree)    0.026284\n",
      "1   Atmospheric Pressure at Harvest (Pa)    0.025742\n",
      "4                 Color Intensity (a.u.)    0.025164\n",
      "5   Find Distance from Main Vulcano (km)    0.024629\n",
      "12                   Soil pH where Grown    0.023813\n",
      "10                            Seed Count    0.018422\n",
      "11                   Skin Thickness (mm)    0.016090\n"
     ]
    }
   ],
   "source": [
    "# Getting feature importance\n",
    "feature_importances = rfc.feature_importances_\n",
    "\n",
    "# Creating a DataFrame for feature importances\n",
    "features_df = pd.DataFrame({'Feature': X.columns, 'Importance': feature_importances})\n",
    "\n",
    "# Sorting the features by importance\n",
    "features_df = features_df.sort_values(by='Importance', ascending=False)\n",
    "print(\"Feature importances:\\n\", features_df)"
   ]
  },
  {
   "cell_type": "markdown",
   "metadata": {},
   "source": [
    "In the next box i try all different combinations of features. I use the feautre combination that has the highest accuracy "
   ]
  },
  {
   "cell_type": "code",
   "execution_count": 296,
   "metadata": {},
   "outputs": [
    {
     "name": "stdout",
     "output_type": "stream",
     "text": [
      "Best Average Accuracy: 0.8890\n",
      "Best Features: ['pH', 'Sugar Content (mg)', 'Bitterness Scale', 'Weight (mg)', 'Length (mm)', 'Luminescence Intensity (a.u.)', 'Odor index (a.u.)', 'Circumference (mm)']\n"
     ]
    }
   ],
   "source": [
    "# Selecting subsets of features starting from the most important\n",
    "best_average_accuracy = 0\n",
    "best_features = []\n",
    "\n",
    "from sklearn.svm import SVC\n",
    "\n",
    "for i in range(1, len(features_df.Feature) + 1):\n",
    "    #Selecting the combination to use for the model\n",
    "    selected_features = features_df.Feature.head(i)\n",
    "    X_selected = X[selected_features]\n",
    "\n",
    "    #storing accuracy \n",
    "    accuracies = []\n",
    "    from sklearn.neighbors import KNeighborsClassifier\n",
    "    # Iterate over a range of random states for train-test split\n",
    "    for r in range(1,100, 10):\n",
    "        # Splitting data with varying random states, to avoid overfitting\n",
    "        #splitting with only the selected features\n",
    "        X_train, X_test, y_train, y_test = train_test_split(X_selected, y, test_size=0.2, random_state=r)\n",
    "        \n",
    "        sc = StandardScaler()\n",
    "        sc.fit(X_train)\n",
    "\n",
    "        # Transform (standardise) both X_train and X_test with mean and stddev from\n",
    "        # training data, to avoid leakage \n",
    "        X_train_sc = sc.transform(X_train)\n",
    "        X_test_sc = sc.transform(X_test)\n",
    "        # Initialize the model\n",
    "        model = KNeighborsClassifier()\n",
    "        model.fit(X_train_sc, y_train)\n",
    "        \n",
    "        # Evaluate the model on the test set\n",
    "        predictions = model.predict(X_test_sc)\n",
    "        accuracy = accuracy_score(y_test, predictions)\n",
    "        accuracies.append(accuracy)\n",
    "    \n",
    "    # Calculate the average accuracy across all splits for this set of features\n",
    "    average_accuracy = np.mean(accuracies)\n",
    "    \n",
    "    # Update the best feature-lsit if the current average accuracy is better\n",
    "    if average_accuracy > best_average_accuracy:\n",
    "        best_average_accuracy = average_accuracy\n",
    "        best_features = selected_features.tolist()\n",
    "\n",
    "print(f\"Best Average Accuracy: {best_average_accuracy:.4f}\")\n",
    "print(f\"Best Features: {best_features}\")\n",
    "\n",
    "#0.9106"
   ]
  },
  {
   "cell_type": "markdown",
   "metadata": {},
   "source": [
    "In the next box, i try to find the best paramters for the model. I started with looping over n_estimators, and selected the value with the best accuracy. Then i adjusted the code with best_n_estimators, and looped over different values of max_depth. I select the max_depth-value that gave me the highest accuraccy with the best_n_estimators. This goes on in the same pattern for the next parameter."
   ]
  },
  {
   "cell_type": "markdown",
   "metadata": {},
   "source": [
    "I've tried using different criterions and random_states for the model, and earlier i've found that criterion= \"gini\" and randomstate= 42 has worked well for me.."
   ]
  },
  {
   "cell_type": "markdown",
   "metadata": {},
   "source": [
    "I could have tried to find more paramters to use in the model, but the ones i've used here has worked well enough."
   ]
  },
  {
   "cell_type": "code",
   "execution_count": 306,
   "metadata": {},
   "outputs": [
    {
     "name": "stdout",
     "output_type": "stream",
     "text": [
      "Best Configuration:\n",
      "{'n_neighbors': 1}\n",
      "Best Validation Accuracy: 0.9012\n"
     ]
    }
   ],
   "source": [
    "# Here i set the best values for parameters i've already found.\n",
    "# Stores the best configuration in the loop\n",
    "best_accuracy = 0\n",
    "best_config_knn = {}\n",
    "n_neighbors= 10\n",
    "\n",
    "#looping over different values for the next parameter to find, which here is min_samples split\n",
    "parameters_to_try=  [1]\n",
    "                     \n",
    "for parameter in parameters_to_try:\n",
    "    #Storing accuracies for different random states\n",
    "    accuracies = []\n",
    "\n",
    "    # Iterate over a range of random states for train-test split\n",
    "    for r in range(1, 100, 10):\n",
    "\n",
    "        # Splitting data with varying random states, to avoid overfitting\n",
    "        #also only using the selected features\n",
    "        X_train, X_test, y_train, y_test = train_test_split(X[best_features], y, test_size=0.2, random_state=r)\n",
    "\n",
    "\n",
    "        sc = StandardScaler()\n",
    "        sc.fit(X_train)\n",
    "\n",
    "        # Transform (standardise) both X_train and X_test with mean and stddev from\n",
    "        # training data, to avoid leakage \n",
    "        X_train_sc = sc.transform(X_train)\n",
    "        X_test_sc = sc.transform(X_test)\n",
    "        # Initialize the model\n",
    "        model = KNeighborsClassifier(n_neighbors= 10, p=1, weights= \"uniform\")\n",
    "        model.fit(X_train_sc, y_train)\n",
    "     \n",
    "        # Evaluate the model on the validation set\n",
    "        predictions = model.predict(X_test_sc)\n",
    "        accuracy = accuracy_score(y_test, predictions)\n",
    "        accuracies.append(accuracy)\n",
    "\n",
    "    # Calculate the average accuracy across all splits\n",
    "    average_accuracy = np.mean(accuracies)\n",
    "\n",
    "    # Update the best configuration for new parameter if necessary\n",
    "    if average_accuracy > best_accuracy:\n",
    "        best_accuracy = average_accuracy\n",
    "        best_parameter= parameter\n",
    "        best_config_knn = {\n",
    "          \"n_neighbors\": best_parameter\n",
    "        }\n",
    "\n",
    "# Print the best configuration and its accuracy\n",
    "print(\"Best Configuration:\")\n",
    "print(best_config_knn)\n",
    "print(f\"Best Validation Accuracy: {best_accuracy:.4f}\")"
   ]
  },
  {
   "cell_type": "code",
   "execution_count": 265,
   "metadata": {},
   "outputs": [
    {
     "name": "stdout",
     "output_type": "stream",
     "text": [
      "Best Configuration:\n",
      "{'n_estimators': 181, 'max_depth': 11, 'random_state': 42, 'criterion': 'gini'}\n",
      "Best Validation Accuracy: 0.9073\n"
     ]
    }
   ],
   "source": [
    "# Here i set the best values for parameters i've already found.\n",
    "best_n_estimators = 181\n",
    "best_max_depth= 11\n",
    "\n",
    "# Stores the best configuration in the loop\n",
    "best_accuracy = 0\n",
    "best_config = {}\n",
    "\n",
    "#looping over different values for the next parameter to find, which here is min_samples split\n",
    "parameters_to_try=  [1]\n",
    "\n",
    "for parameter in parameters_to_try:\n",
    "    #Storing accuracies for different random states\n",
    "    accuracies = []\n",
    "\n",
    "    # Iterate over a range of random states for train-test split\n",
    "    for r in range(1, 100, 10):\n",
    "\n",
    "        # Splitting data with varying random states, to avoid overfitting\n",
    "        #also only using the selected features\n",
    "        X_train, X_test, y_train, y_test = train_test_split(X[best_features], y, test_size=0.2, random_state=r)\n",
    "\n",
    "        # Initialize and train the RandomForest model\n",
    "        #Using the best paramters that i've found earlier with the same code\n",
    "        #using different values for min_samples_split to find the new best one in this case\n",
    "        model = RandomForestClassifier(random_state=42, criterion=\"gini\", n_estimators= best_n_estimators, max_depth= best_max_depth)\n",
    "        model.fit(X_train, y_train)\n",
    "\n",
    "        # Evaluate the model on the validation set\n",
    "        predictions = model.predict(X_test)\n",
    "        accuracy = accuracy_score(y_test, predictions)\n",
    "        accuracies.append(accuracy)\n",
    "\n",
    "    # Calculate the average accuracy across all splits\n",
    "    average_accuracy = np.mean(accuracies)\n",
    "\n",
    "    # Update the best configuration for new parameter if necessary\n",
    "    if average_accuracy > best_accuracy:\n",
    "        best_accuracy = average_accuracy\n",
    "        best_parameter= parameter\n",
    "        best_config = {\n",
    "            'n_estimators': best_n_estimators,\n",
    "            'max_depth': best_max_depth,\n",
    "            'random_state': 42,\n",
    "            'criterion': \"gini\",\n",
    "            #'min_samples_split': best_mms,\n",
    "            #'max_features': best_parameter  #store best new parameter\n",
    "            #if im trying to find more paramters:\n",
    "        }\n",
    "\n",
    "# Print the best configuration and its accuracy\n",
    "print(\"Best Configuration:\")\n",
    "print(best_config)\n",
    "print(f\"Best Validation Accuracy: {best_accuracy:.4f}\")\n",
    "\n",
    "# 91.14"
   ]
  },
  {
   "cell_type": "code",
   "execution_count": 266,
   "metadata": {},
   "outputs": [
    {
     "data": {
      "text/plain": [
       "{'n_estimators': 181, 'max_depth': 11, 'random_state': 42, 'criterion': 'gini'}"
      ]
     },
     "execution_count": 266,
     "metadata": {},
     "output_type": "execute_result"
    }
   ],
   "source": [
    "# Just checking what parameters i ended up with\n",
    "best_config"
   ]
  },
  {
   "cell_type": "code",
   "execution_count": 271,
   "metadata": {},
   "outputs": [
    {
     "name": "stdout",
     "output_type": "stream",
     "text": [
      "Accuracy of Stacking Classifier: 0.9146\n"
     ]
    }
   ],
   "source": [
    "from sklearn.ensemble import StackingClassifier\n",
    "from sklearn.linear_model import LogisticRegression\n",
    "from sklearn.svm import SVC\n",
    "from sklearn.tree import DecisionTreeClassifier\n",
    "from sklearn.neighbors import KNeighborsClassifier\n",
    "# Assume X_train, X_test, y_train, y_test are already defined\n",
    "# as well as any preprocessing needed\n",
    "\n",
    "from sklearn.pipeline import Pipeline\n",
    "from sklearn.preprocessing import StandardScaler\n",
    "\n",
    "# Assuming that best_features and best_config are defined, as well as X_train, X_test, y_train, y_test\n",
    "\n",
    "# Define base models with their pipelines if necessary\n",
    "base_models = [\n",
    "    ('rf', RandomForestClassifier(**best_config)),  # No need for scaling\n",
    "    ('svc_pipeline', Pipeline([\n",
    "       ('scaler', StandardScaler()),  # Scale features for SVC\n",
    "       ('svc', SVC(**best_config_svc))  # Probability=True for stacking\n",
    "   ]))\n",
    "]\n",
    "\n",
    "# Define a meta-model with its pipeline\n",
    "meta_model_pipeline = Pipeline([\n",
    "    ('scaler', StandardScaler()),  # Scale features for Logistic Regression\n",
    "    ('logistic', LogisticRegression(max_iter=100, C=0.001))\n",
    "])\n",
    "\n",
    "# Define the stacking ensemble\n",
    "stacking_model = StackingClassifier(estimators=base_models, final_estimator=meta_model_pipeline, cv=5)\n",
    "\n",
    "# Fit the model on the training data using only the best features\n",
    "stacking_model.fit(X_train[best_features], y_train)\n",
    "\n",
    "# Evaluate the model using only the best features\n",
    "y_pred = stacking_model.predict(X_test[best_features])\n",
    "accuracy = accuracy_score(y_test, y_pred)\n",
    "print(f'Accuracy of Stacking Classifier: {accuracy:.4f}')\n",
    "\n"
   ]
  },
  {
   "cell_type": "code",
   "execution_count": null,
   "metadata": {},
   "outputs": [],
   "source": []
  },
  {
   "cell_type": "code",
   "execution_count": 293,
   "metadata": {},
   "outputs": [],
   "source": [
    "# Create a new RandomForestClassifier with the best configuration\n",
    "#final_model= RandomForestClassifier(**best_config)\n",
    "#final_model= StackingClassifier(estimators=base_models, final_estimator=meta_model_pipeline, cv=5)\n",
    "from sklearn.preprocessing import StandardScaler\n",
    "from sklearn.svm import SVC\n",
    "import pandas as pd\n",
    "\n",
    "# Assuming best_config_svc is defined correctly\n",
    "final_model = SVC(**best_config_svc)\n",
    "\n",
    "# Initialize the StandardScaler\n",
    "sc1 = StandardScaler()\n",
    "# Assuming X and selected_features are defined correctly\n",
    "X_selected = X[selected_features]\n",
    "# Fit the scaler on the selected features of the training data\n",
    "sc1.fit(X_selected)\n",
    "\n",
    "# Transform the training data\n",
    "X_sc = sc1.transform(X_selected)\n",
    "\n",
    "# Train the model with the standardized training data\n",
    "final_model.fit(X_sc, y)\n",
    "\n",
    "# Load the test set\n",
    "x_val = pd.read_csv(\"test.csv\", index_col=0)\n",
    "# Select only the selected (best) features\n",
    "x_val_selected = x_val[selected_features]\n",
    "# Standardize the test data using the same scaler\n",
    "X_val_sc = sc1.transform(x_val_selected)\n",
    "\n",
    "# Predict using the standardized test data\n",
    "predictions = final_model.predict(X_val_sc).astype(int)\n"
   ]
  },
  {
   "cell_type": "code",
   "execution_count": 294,
   "metadata": {},
   "outputs": [],
   "source": [
    "# Create a DataFrame with predictions\n",
    "predictions_df = pd.DataFrame(predictions, columns=['Edible'])\n",
    "predictions_df.index.name = 'index'\n",
    "\n",
    "# Save to a CSV file\n",
    "predictions_df.to_csv('predictions.csv')"
   ]
  }
 ],
 "metadata": {
  "kernelspec": {
   "display_name": "dat200_env",
   "language": "python",
   "name": "python3"
  },
  "language_info": {
   "codemirror_mode": {
    "name": "ipython",
    "version": 3
   },
   "file_extension": ".py",
   "mimetype": "text/x-python",
   "name": "python",
   "nbconvert_exporter": "python",
   "pygments_lexer": "ipython3",
   "version": "3.10.8"
  }
 },
 "nbformat": 4,
 "nbformat_minor": 2
}
